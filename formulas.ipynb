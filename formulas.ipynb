{
 "cells": [
  {
   "cell_type": "markdown",
   "metadata": {},
   "source": [
    "# Differentiation and integration"
   ]
  },
  {
   "cell_type": "markdown",
   "metadata": {},
   "source": [
    "## Differentiation"
   ]
  },
  {
   "cell_type": "markdown",
   "metadata": {},
   "source": [
    "### Basic differentiation"
   ]
  },
  {
   "cell_type": "markdown",
   "metadata": {},
   "source": [
    "$ y = e^x \\longrightarrow y' = e^x $ "
   ]
  },
  {
   "cell_type": "markdown",
   "metadata": {},
   "source": [
    "$ y=e^{-x} \\longrightarrow y'=-e^{-x} $ "
   ]
  },
  {
   "cell_type": "markdown",
   "metadata": {},
   "source": [
    "$ y=e^{ax} \\longrightarrow y'=ae^{ax} $ "
   ]
  },
  {
   "cell_type": "markdown",
   "metadata": {},
   "source": [
    "$ y=ln(x) \\longrightarrow y'=\\frac{1}{x} $ "
   ]
  },
  {
   "cell_type": "markdown",
   "metadata": {},
   "source": [
    "$ y=ln(ax) \\longrightarrow y = ln(a)+ ln(x) \\rightarrow y'=\\frac{1}{x} $ "
   ]
  },
  {
   "cell_type": "markdown",
   "metadata": {},
   "source": [
    "$ y=x^{n} \\longrightarrow y'=nx^{n-1} $ "
   ]
  },
  {
   "cell_type": "markdown",
   "metadata": {},
   "source": [
    "$ y=sin(ax) \\longrightarrow y'=acos(ax) $ "
   ]
  },
  {
   "cell_type": "markdown",
   "metadata": {},
   "source": [
    "$ y=cos(ax) \\longrightarrow y'=-asin(ax) $ "
   ]
  },
  {
   "cell_type": "markdown",
   "metadata": {},
   "source": [
    "$ y=tan(x) \\longrightarrow y'=\\frac{1}{cos^2(x)} = 1 + tan^2(x) $ "
   ]
  },
  {
   "cell_type": "markdown",
   "metadata": {},
   "source": [
    "### Rules for differentiation"
   ]
  },
  {
   "cell_type": "markdown",
   "metadata": {},
   "source": [
    "Product rule: $ g(x) = u(x)\\cdot v(x)\\longrightarrow g'(x)=u(x)\\cdot v'(x) + u'(x)\\cdot v(x) $ "
   ]
  },
  {
   "cell_type": "markdown",
   "metadata": {},
   "source": [
    "Chain rule: $ y = f[u(x)] \\longrightarrow y'=f'(u)\\cdot u'(x) = \\frac{dy}{du}\\cdot\\frac{du}{dx} $ "
   ]
  },
  {
   "cell_type": "markdown",
   "metadata": {},
   "source": [
    "Differentiation of quotients: $ f(x)=\\frac{u(x)}{v(x)} \\longrightarrow y'= \\frac{u'\\cdot v - u\\cdot v'}{v^2} $ "
   ]
  },
  {
   "cell_type": "markdown",
   "metadata": {},
   "source": [
    "# Integral transformations"
   ]
  },
  {
   "cell_type": "markdown",
   "metadata": {},
   "source": [
    "## Fourier series"
   ]
  },
  {
   "cell_type": "markdown",
   "metadata": {},
   "source": [
    "Fourier series: $ f(x) = \\frac{a_0}{2} + \\sum_{n=1}^{\\infty}[a_n(cos(\\frac{2\\pi nx}{L})+b_nsin(\\frac{2\\pi nx}{L})] $"
   ]
  },
  {
   "cell_type": "markdown",
   "metadata": {},
   "source": [
    "Fourier series period 2L = 2pi: $ f(x) = \\frac{a_0}{2} + \\sum_{n=1}^{\\infty}[a_n(cos(nx)+b_nsin(nx)] $"
   ]
  },
  {
   "cell_type": "markdown",
   "metadata": {},
   "source": [
    "Fourier coefficient: $ a_n=\\frac{1}{\\pi}\\int_{-\\pi}^{\\pi}f(x) cos(nx)dx $"
   ]
  },
  {
   "cell_type": "markdown",
   "metadata": {},
   "source": [
    "Fourier coefficient: $ b_n=\\frac{1}{\\pi}\\int_{-\\pi}^{\\pi}f(x)sin(nx)dx $"
   ]
  },
  {
   "cell_type": "markdown",
   "metadata": {},
   "source": [
    "Fourier series Euler: $ f(x)= \\sum_{n=-\\infty}^{\\infty} c_{n}e^{inx} $ "
   ]
  },
  {
   "cell_type": "markdown",
   "metadata": {},
   "source": [
    "Fourier series Euler: $ c_n =\\frac{1}{2\\pi}\\int_{-\\pi}^{\\pi}f(x)e^{-inx}dx $ "
   ]
  },
  {
   "cell_type": "code",
   "execution_count": null,
   "metadata": {},
   "outputs": [],
   "source": []
  },
  {
   "cell_type": "markdown",
   "metadata": {},
   "source": [
    "# Vector operations"
   ]
  },
  {
   "cell_type": "markdown",
   "metadata": {},
   "source": [
    "## Scalar fields and vector fields"
   ]
  },
  {
   "cell_type": "markdown",
   "metadata": {},
   "source": [
    "Nabla = del = gradient: $ \\nabla = \\begin{bmatrix} \n",
    "\\frac{\\delta}{\\delta x} \\\\\n",
    "\\frac{\\delta}{\\delta y} \\\\\n",
    "\\frac{\\delta}{\\delta z}\n",
    "\\end{bmatrix}\n",
    "$ "
   ]
  },
  {
   "cell_type": "markdown",
   "metadata": {},
   "source": [
    "Laplacian: $\\Delta = \\nabla^2 = \\nabla \\cdot \\nabla =\\begin{bmatrix} \n",
    "\\frac{\\delta^2}{\\delta x^2} \\\\\n",
    "\\frac{\\delta^2}{\\delta y^2} \\\\\n",
    "\\frac{\\delta^2}{\\delta z^2}\n",
    "\\end{bmatrix}$ "
   ]
  },
  {
   "cell_type": "markdown",
   "metadata": {},
   "source": [
    "Divergence: $ \\, div\\vec{v}(x,y,z) = \\frac{\\delta P}{\\delta x} + \\frac{\\delta Q}{\\delta y}+ \\frac{\\delta R}{\\delta z}$"
   ]
  },
  {
   "cell_type": "code",
   "execution_count": null,
   "metadata": {},
   "outputs": [],
   "source": []
  },
  {
   "cell_type": "markdown",
   "metadata": {},
   "source": [
    "# Basics review:\n"
   ]
  },
  {
   "cell_type": "markdown",
   "metadata": {},
   "source": [
    "## Partial fraction decomposition"
   ]
  },
  {
   "cell_type": "markdown",
   "metadata": {},
   "source": [
    "Einfache Polstelle: $ \\frac{P(x)}{x(x-1)(x+1)} \\longrightarrow = \\frac{A}{x}+ \\frac{B}{x-1}+ \\frac{C}{x+1} $"
   ]
  },
  {
   "cell_type": "markdown",
   "metadata": {},
   "source": [
    "Mehrfache Polstelle: $ \\frac{P(x)}{(x+1)^3} \\longrightarrow = \\frac{A}{x+1}+ \\frac{B}{(x+1)^2}+ \\frac{C}{(x+1)^3} $"
   ]
  },
  {
   "cell_type": "markdown",
   "metadata": {},
   "source": [
    "Komplexe Polstelle: $ \\frac{P(x)}{(x^2+1)(x^2+4)} \\longrightarrow = \\frac{Ax+B}{x^2+1}+ \\frac{Cx+D}{x^2+4} $"
   ]
  },
  {
   "cell_type": "markdown",
   "metadata": {},
   "source": [
    "<table>\n",
    "<thead>\n",
    "<tr>\n",
    "<th>function</th>\n",
    "<th>differential</th>\n",
    "</tr>\n",
    "</thead>\n",
    "<tbody>\n",
    "<tr>\n",
    "<td> $ y=e^x $ </td>\n",
    "<td> $ y'=e^x $ </td>\n",
    "</tr>\n",
    "</tbody>\n",
    "</table>"
   ]
  },
  {
   "cell_type": "markdown",
   "metadata": {},
   "source": [
    "## Miscelaneous"
   ]
  },
  {
   "cell_type": "markdown",
   "metadata": {},
   "source": [
    "Simplify: $\\frac{1}{-i}$"
   ]
  },
  {
   "cell_type": "markdown",
   "metadata": {},
   "source": [
    "Simplify: $\\frac{1}{-i}=i$"
   ]
  },
  {
   "cell_type": "markdown",
   "metadata": {},
   "source": [
    "Euler identities: $ sin(nx)= \\frac{e^{inx}- e^{-inx}}{2i} $"
   ]
  },
  {
   "cell_type": "markdown",
   "metadata": {},
   "source": [
    "Euler identities: $ cos(nx)= \\frac{e^{inx}+e^{-inx}}{2} $"
   ]
  },
  {
   "cell_type": "code",
   "execution_count": null,
   "metadata": {},
   "outputs": [],
   "source": []
  }
 ],
 "metadata": {
  "kernelspec": {
   "display_name": "Python 3",
   "language": "python",
   "name": "python3"
  },
  "language_info": {
   "codemirror_mode": {
    "name": "ipython",
    "version": 3
   },
   "file_extension": ".py",
   "mimetype": "text/x-python",
   "name": "python",
   "nbconvert_exporter": "python",
   "pygments_lexer": "ipython3",
   "version": "3.7.9"
  },
  "toc": {
   "base_numbering": 1,
   "nav_menu": {},
   "number_sections": true,
   "sideBar": true,
   "skip_h1_title": false,
   "title_cell": "Table of Contents",
   "title_sidebar": "Contents",
   "toc_cell": false,
   "toc_position": {},
   "toc_section_display": true,
   "toc_window_display": false
  }
 },
 "nbformat": 4,
 "nbformat_minor": 2
}
